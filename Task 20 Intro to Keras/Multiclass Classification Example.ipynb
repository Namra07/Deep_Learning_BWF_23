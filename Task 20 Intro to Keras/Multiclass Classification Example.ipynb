{
 "cells": [
  {
   "cell_type": "code",
   "execution_count": 1,
   "id": "15a36d59",
   "metadata": {},
   "outputs": [
    {
     "name": "stdout",
     "output_type": "stream",
     "text": [
      "Downloading data from https://storage.googleapis.com/tensorflow/tf-keras-datasets/reuters.npz\n",
      "2110848/2110848 [==============================] - 2s 1us/step\n"
     ]
    }
   ],
   "source": [
    "from keras.datasets import reuters\n",
    "\n",
    "\n",
    "(train_data, train_labels), (test_data, test_labels) = reuters.load_data(num_words=10000)"
   ]
  },
  {
   "cell_type": "code",
   "execution_count": 8,
   "id": "bba60edd",
   "metadata": {},
   "outputs": [],
   "source": [
    "import numpy as np\n",
    "def vectorize_sequence(sequences, dimensions=10000):\n",
    "    results = np.zeros((len(sequences), dimensions))\n",
    "    for i, sequence in enumerate(sequences):\n",
    "        results[i, sequence] = 1.\n",
    "    return results\n",
    "\n",
    "x_train = vectorize_sequence(train_data)\n",
    "x_test = vectorize_sequence(test_data)\n"
   ]
  },
  {
   "cell_type": "code",
   "execution_count": 9,
   "id": "d467a69b",
   "metadata": {},
   "outputs": [],
   "source": [
    "def to_one_hot(labels, dimensions=46):\n",
    "    results = np.zeros((len(labels), dimensions))\n",
    "    for i, label in enumerate(labels):\n",
    "        results[i,label]=1.\n",
    "    return results\n",
    "\n",
    "one_hot_train_labels = to_one_hot(train_labels)\n",
    "one_hot_test_labels = to_one_hot(test_labels)"
   ]
  },
  {
   "cell_type": "code",
   "execution_count": 10,
   "id": "cdfc13d1",
   "metadata": {},
   "outputs": [],
   "source": [
    "from keras.utils.np_utils import to_categorical\n",
    "\n",
    "one_hot_train_labels = to_categorical(train_labels)\n",
    "one_hot_test_labels = to_categorical(test_labels)"
   ]
  },
  {
   "cell_type": "code",
   "execution_count": 14,
   "id": "395087bd",
   "metadata": {},
   "outputs": [],
   "source": [
    "from keras import models\n",
    "from keras import layers\n",
    "model = models.Sequential()\n",
    "model.add(layers.Dense(64, activation='relu', input_shape=(10000,)))\n",
    "model.add(layers.Dense(64, activation='relu'))\n",
    "model.add(layers.Dense(46, activation='softmax'))"
   ]
  },
  {
   "cell_type": "code",
   "execution_count": 15,
   "id": "ae3ed42e",
   "metadata": {},
   "outputs": [],
   "source": [
    "model.compile(optimizer='rmsprop', loss='categorical_crossentropy',\n",
    "             metrics=['accuracy'])"
   ]
  },
  {
   "cell_type": "code",
   "execution_count": 16,
   "id": "bde01f2d",
   "metadata": {},
   "outputs": [],
   "source": [
    "x_val = x_train[:1000]\n",
    "partial_x_train = x_train[1000:]\n",
    "\n",
    "y_val = one_hot_train_labels[:1000]\n",
    "partial_y_train = one_hot_train_labels[1000:]"
   ]
  },
  {
   "cell_type": "code",
   "execution_count": 17,
   "id": "bd9bb973",
   "metadata": {},
   "outputs": [
    {
     "name": "stdout",
     "output_type": "stream",
     "text": [
      "Epoch 1/20\n",
      "16/16 [==============================] - 1s 46ms/step - loss: 2.7506 - accuracy: 0.5069 - val_loss: 1.9159 - val_accuracy: 0.6140\n",
      "Epoch 2/20\n",
      "16/16 [==============================] - 1s 36ms/step - loss: 1.6058 - accuracy: 0.6617 - val_loss: 1.3969 - val_accuracy: 0.6820\n",
      "Epoch 3/20\n",
      "16/16 [==============================] - 1s 36ms/step - loss: 1.2057 - accuracy: 0.7380 - val_loss: 1.1866 - val_accuracy: 0.7240\n",
      "Epoch 4/20\n",
      "16/16 [==============================] - 1s 36ms/step - loss: 0.9749 - accuracy: 0.7881 - val_loss: 1.0637 - val_accuracy: 0.7710\n",
      "Epoch 5/20\n",
      "16/16 [==============================] - 1s 36ms/step - loss: 0.8044 - accuracy: 0.8266 - val_loss: 1.0066 - val_accuracy: 0.7730\n",
      "Epoch 6/20\n",
      "16/16 [==============================] - 1s 36ms/step - loss: 0.6746 - accuracy: 0.8589 - val_loss: 0.9378 - val_accuracy: 0.7920\n",
      "Epoch 7/20\n",
      "16/16 [==============================] - 1s 36ms/step - loss: 0.5612 - accuracy: 0.8796 - val_loss: 0.9057 - val_accuracy: 0.8150\n",
      "Epoch 8/20\n",
      "16/16 [==============================] - 1s 34ms/step - loss: 0.4739 - accuracy: 0.8999 - val_loss: 0.8705 - val_accuracy: 0.8180\n",
      "Epoch 9/20\n",
      "16/16 [==============================] - 1s 32ms/step - loss: 0.4020 - accuracy: 0.9134 - val_loss: 0.8612 - val_accuracy: 0.8150\n",
      "Epoch 10/20\n",
      "16/16 [==============================] - 1s 32ms/step - loss: 0.3451 - accuracy: 0.9248 - val_loss: 0.9414 - val_accuracy: 0.7910\n",
      "Epoch 11/20\n",
      "16/16 [==============================] - 1s 39ms/step - loss: 0.3005 - accuracy: 0.9352 - val_loss: 0.8605 - val_accuracy: 0.8230\n",
      "Epoch 12/20\n",
      "16/16 [==============================] - 1s 39ms/step - loss: 0.2622 - accuracy: 0.9406 - val_loss: 0.9004 - val_accuracy: 0.8090\n",
      "Epoch 13/20\n",
      "16/16 [==============================] - 1s 34ms/step - loss: 0.2346 - accuracy: 0.9441 - val_loss: 0.8541 - val_accuracy: 0.8310\n",
      "Epoch 14/20\n",
      "16/16 [==============================] - 0s 28ms/step - loss: 0.2088 - accuracy: 0.9470 - val_loss: 0.8718 - val_accuracy: 0.8240\n",
      "Epoch 15/20\n",
      "16/16 [==============================] - 0s 28ms/step - loss: 0.1897 - accuracy: 0.9521 - val_loss: 0.8909 - val_accuracy: 0.8240\n",
      "Epoch 16/20\n",
      "16/16 [==============================] - 1s 33ms/step - loss: 0.1782 - accuracy: 0.9515 - val_loss: 0.8821 - val_accuracy: 0.8260\n",
      "Epoch 17/20\n",
      "16/16 [==============================] - 1s 36ms/step - loss: 0.1632 - accuracy: 0.9544 - val_loss: 0.9351 - val_accuracy: 0.8170\n",
      "Epoch 18/20\n",
      "16/16 [==============================] - 1s 42ms/step - loss: 0.1555 - accuracy: 0.9554 - val_loss: 0.9123 - val_accuracy: 0.8220\n",
      "Epoch 19/20\n",
      "16/16 [==============================] - 1s 35ms/step - loss: 0.1475 - accuracy: 0.9548 - val_loss: 0.8914 - val_accuracy: 0.8270\n",
      "Epoch 20/20\n",
      "16/16 [==============================] - 1s 42ms/step - loss: 0.1391 - accuracy: 0.9574 - val_loss: 0.9416 - val_accuracy: 0.8140\n"
     ]
    }
   ],
   "source": [
    "history = model.fit(partial_x_train, partial_y_train, epochs=20,\n",
    "                   batch_size=512,\n",
    "                   validation_data=(x_val, y_val))"
   ]
  },
  {
   "cell_type": "code",
   "execution_count": 18,
   "id": "f8f5fad2",
   "metadata": {},
   "outputs": [
    {
     "data": {
      "text/plain": [
       "dict_keys(['loss', 'accuracy', 'val_loss', 'val_accuracy'])"
      ]
     },
     "execution_count": 18,
     "metadata": {},
     "output_type": "execute_result"
    }
   ],
   "source": [
    "history_dict = history.history\n",
    "history_dict.keys()"
   ]
  },
  {
   "cell_type": "code",
   "execution_count": 20,
   "id": "d0787dbe",
   "metadata": {},
   "outputs": [
    {
     "data": {
      "image/png": "[encoded data removed]",
      "text/plain": [
       "<Figure size 640x480 with 1 Axes>"
      ]
     },
     "metadata": {},
     "output_type": "display_data"
    }
   ],
   "source": [
    "import matplotlib.pyplot as plt\n",
    "loss = history.history['loss']\n",
    "val_loss = history.history['val_loss']\n",
    "epochs = range(1, len(loss) + 1)\n",
    "plt.plot(epochs, loss, 'bo', label='Training loss')\n",
    "plt.plot(epochs, val_loss, 'b', label='Validation loss')\n",
    "plt.title('Training and validation loss')\n",
    "plt.xlabel('Epochs')\n",
    "plt.ylabel('Loss')\n",
    "plt.legend()\n",
    "plt.show()"
   ]
  },
  {
   "cell_type": "code",
   "execution_count": 21,
   "id": "bfb8b4d6",
   "metadata": {},
   "outputs": [
    {
     "name": "stdout",
     "output_type": "stream",
     "text": [
      "Epoch 1/9\n",
      "16/16 [==============================] - 1s 44ms/step - loss: 2.6799 - accuracy: 0.5135 - val_loss: 1.7984 - val_accuracy: 0.6080\n",
      "Epoch 2/9\n",
      "16/16 [==============================] - 1s 35ms/step - loss: 1.5147 - accuracy: 0.6768 - val_loss: 1.3656 - val_accuracy: 0.6880\n",
      "Epoch 3/9\n",
      "16/16 [==============================] - 1s 32ms/step - loss: 1.1484 - accuracy: 0.7464 - val_loss: 1.1833 - val_accuracy: 0.7400\n",
      "Epoch 4/9\n",
      "16/16 [==============================] - 1s 32ms/step - loss: 0.9285 - accuracy: 0.7977 - val_loss: 1.0620 - val_accuracy: 0.7700\n",
      "Epoch 5/9\n",
      "16/16 [==============================] - 0s 30ms/step - loss: 0.7666 - accuracy: 0.8343 - val_loss: 0.9930 - val_accuracy: 0.7900\n",
      "Epoch 6/9\n",
      "16/16 [==============================] - 0s 27ms/step - loss: 0.6344 - accuracy: 0.8628 - val_loss: 0.9325 - val_accuracy: 0.8050\n",
      "Epoch 7/9\n",
      "16/16 [==============================] - 0s 28ms/step - loss: 0.5251 - accuracy: 0.8869 - val_loss: 0.9621 - val_accuracy: 0.7860\n",
      "Epoch 8/9\n",
      "16/16 [==============================] - 0s 28ms/step - loss: 0.4453 - accuracy: 0.9053 - val_loss: 0.9239 - val_accuracy: 0.7920\n",
      "Epoch 9/9\n",
      "16/16 [==============================] - 1s 32ms/step - loss: 0.3719 - accuracy: 0.9214 - val_loss: 0.8713 - val_accuracy: 0.8210\n",
      "71/71 [==============================] - 0s 3ms/step - loss: 0.9309 - accuracy: 0.7867\n"
     ]
    }
   ],
   "source": [
    "model = models.Sequential()\n",
    "model.add(layers.Dense(64, activation='relu', input_shape=(10000,)))\n",
    "model.add(layers.Dense(64, activation='relu'))\n",
    "model.add(layers.Dense(46, activation='softmax'))\n",
    "model.compile(optimizer='rmsprop',\n",
    "loss='categorical_crossentropy',\n",
    "metrics=['accuracy'])\n",
    "model.fit(partial_x_train,\n",
    "partial_y_train,\n",
    "epochs=9,\n",
    "batch_size=512,\n",
    "validation_data=(x_val, y_val))\n",
    "results = model.evaluate(x_test, one_hot_test_labels)"
   ]
  },
  {
   "cell_type": "code",
   "execution_count": null,
   "id": "57ab3d4f",
   "metadata": {},
   "outputs": [],
   "source": []
  }
 ],
 "metadata": {
  "kernelspec": {
   "display_name": "Python 3 (ipykernel)",
   "language": "python",
   "name": "python3"
  },
  "language_info": {
   "codemirror_mode": {
    "name": "ipython",
    "version": 3
   },
   "file_extension": ".py",
   "mimetype": "text/x-python",
   "name": "python",
   "nbconvert_exporter": "python",
   "pygments_lexer": "ipython3",
   "version": "3.10.9"
  }
 },
 "nbformat": 4,
 "nbformat_minor": 5
}
